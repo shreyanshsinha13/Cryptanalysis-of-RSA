{
 "cells": [
  {
   "cell_type": "code",
   "execution_count": 1,
   "metadata": {},
   "outputs": [],
   "source": [
    "import secrets"
   ]
  },
  {
   "cell_type": "code",
   "execution_count": 2,
   "metadata": {},
   "outputs": [],
   "source": [
    "#Function to apply extended euclidien Algorithmn \n",
    "def eucalg(a, b):\n",
    "\ta=int(a)\n",
    "\tb=int(b)\n",
    "\t# make a the bigger one and b the lesser one\n",
    "\tswapped = False\n",
    "\tif a < b:\n",
    "\t\ta, b = b, a\n",
    "\t\tswapped = True\n",
    "\t# ca and cb store current a and b in form of\n",
    "\t# coefficients with initial a and b\n",
    "\t# a' = ca[0] * a + ca[1] * b\n",
    "\t# b' = cb[0] * a + cb[1] * b\n",
    "\tca = (1, 0)\n",
    "\tcb = (0, 1)\n",
    "\twhile b != 0:\n",
    "\t\t# k denotes how many times number b\n",
    "\t\t# can be substracted from a\n",
    "\t\tk = a // b\n",
    "\t\t# swap a and b so b is always the lesser one\n",
    "\t\ta, b, ca, cb = b, a-b*k, cb, (ca[0]-k*cb[0], ca[1]-k*cb[1])\n",
    "\tif swapped:\n",
    "\t\treturn (ca[1], ca[0])\n",
    "\telse:\n",
    "\t\treturn ca"
   ]
  },
  {
   "cell_type": "code",
   "execution_count": 3,
   "metadata": {},
   "outputs": [],
   "source": [
    "#Function to calculate MOD POWER\n",
    "#Iterating from 1 to e and multiplying by res by b, it iterates from MSB of e to LSB and at each iteration it does r=r*r+bit. \n",
    "# At any step if r=b^x then after appending it becomes r=b^(x^2+bit)\n",
    "def modpow(b, e, n):\n",
    "\t# find length of e in bits\n",
    "\ttst = 1\n",
    "\tsiz = 0\n",
    "\twhile e >= tst:\n",
    "\t\ttst <<= 1\n",
    "\t\tsiz += 1\n",
    "\tsiz -= 1\n",
    "\t# calculate the result\n",
    "\tr = 1\n",
    "\tfor i in range(siz, -1, -1):\n",
    "\t\t#Updating the required r\n",
    "\t\tr = (r * r) % n\n",
    "\t\t#If the bit at ith place is 1 then we are multplying by b\n",
    "\t\tif (e >> i) & 1: r = (r * b) % n\n",
    "\treturn r"
   ]
  },
  {
   "cell_type": "code",
   "execution_count": 4,
   "metadata": {},
   "outputs": [],
   "source": [
    "#Defining Matrix Multiplication \n",
    "def sqmatrixmul(m1, m2, w, mod):\n",
    "\tmr = [[0 for j in range(w)] for i in range(w)]\n",
    "\tfor i in range(w):\n",
    "\t\tfor j in range(w):\n",
    "\t\t\tfor k in range(w):\n",
    "\t\t\t\tmr[i][j] = (mr[i][j] + m1[i][k] * m2[k][j]) % mod\n",
    "\treturn mr\n"
   ]
  },
  {
   "cell_type": "code",
   "execution_count": 5,
   "metadata": {},
   "outputs": [],
   "source": [
    "# fibonacci calculator\n",
    "#Function to calculate the xth fibonacci number\n",
    "def fib(x, mod):\n",
    "\tif x < 3: return 1\n",
    "\tx -= 2\n",
    "\t# find length of e in bits\n",
    "\ttst = 1\n",
    "\tsiz = 0\n",
    "\twhile x >= tst:\n",
    "\t\ttst <<= 1\n",
    "\t\tsiz += 1\n",
    "\tsiz -= 1\n",
    "\t# calculate the matrix\n",
    "\tfm = [\n",
    "\t\t# function matrix\n",
    "\t\t[0, 1],\n",
    "\t\t[1, 1]\n",
    "\t]\n",
    "\trm = [\n",
    "\t\t# result matrix\n",
    "\t\t# (identity)\n",
    "\t\t[1, 0],\n",
    "\t\t[0, 1]\n",
    "\t]\n",
    "\tfor i in range(siz, -1, -1):\n",
    "\t\trm = sqmatrixmul(rm, rm, 2, mod)\n",
    "\t\tif (x >> i) & 1:\n",
    "\t\t\trm = sqmatrixmul(rm, fm, 2, mod)\n",
    "\n",
    "\t# second row of resulting vector is result\n",
    "\treturn (rm[1][0] + rm[1][1]) % mod"
   ]
  },
  {
   "cell_type": "code",
   "execution_count": 6,
   "metadata": {},
   "outputs": [],
   "source": [
    "#FUNCTION TO GENERATE PRIME NUMBER OF GIVEN SIZE \n",
    "def genprime(siz):\n",
    "\twhile True:\n",
    "\t\t#Generating a random number of the order\n",
    "\t\tnum = (1 << (siz - 1)) + secrets.randbits(siz - 1) - 10;\n",
    "\t\t# num must be 3 or 7 (mod 10)\n",
    "\t\tnum -= num % 10\n",
    "\t\tnum += 3 # 3 (mod 10)\n",
    "\t\t# heuristic test\n",
    "\t\tif modpow(2, num - 1, num) == 1 and fib(num + 1, num) == 0:\n",
    "\t\t\treturn num\n",
    "\t\tnum += 5 # 7 (mod 10)\n",
    "\t\t# heuristic test\n",
    "\t\tif modpow(2, num - 1, num) == 1 and fib(num + 1, num) == 0:\n",
    "\t\t\treturn num"
   ]
  },
  {
   "cell_type": "code",
   "execution_count": 7,
   "metadata": {},
   "outputs": [
    {
     "name": "stdout",
     "output_type": "stream",
     "text": [
      "108127343276583416498856174169751649126480346282185417931813004656473734560500587128340692884702827501973058366284853288410112152386186261547171454734409116069544799336770519128441095917851559232084119372403856316429049393710563408247555992271115578201412430718003036524328109388045864731799647787735008273983\n"
     ]
    }
   ],
   "source": [
    "p=genprime(1024)\n",
    "print(p)"
   ]
  },
  {
   "cell_type": "code",
   "execution_count": 7,
   "metadata": {},
   "outputs": [],
   "source": [
    "#FUNCTION TO GENERATE KEY\n",
    "def create_keys(size):\n",
    "\t#Generating the primes\n",
    "\tp = genprime(size//2)\n",
    "\tq = genprime(size//2)\n",
    "\n",
    "\t#Calculating the Modulo \n",
    "\tn = p * q\n",
    "\t\n",
    "\t#Calculating the Tollen Number for it to calculate the private exponent\n",
    "\tlambda_n = (p - 1) * (q - 1)\n",
    "\te = 35537\n",
    "\td = eucalg(e, lambda_n)[0]\n",
    "\tif d < 0: d += lambda_n #If d is negative adding lambda_n\n",
    "\treturn (d, n),(e, n)"
   ]
  },
  {
   "cell_type": "markdown",
   "metadata": {},
   "source": [
    "#FUNCTION TO ENCRYPT DATA\n",
    "def encrypt_bytes(data, key):\n",
    "\tdata=str(data)#Converting Data to string to \n",
    "\tdata=data.encode('latin-1')\n",
    "\t#data=udata.decode('latin-1')\n",
    "\t#data.encode()\n",
    "\t#print(data)\n",
    "\t##print(sizeof(data))\n",
    "\t#data=data.encode(encoding=\"latin-1\",errors:'ignore')\n",
    "\t#data.encode('Latin-1')\n",
    "\tdata = bytearray(data)\n",
    "\t#print(data)\n",
    "\t#print(len(data))\n",
    "\tcdata = bytearray()\n",
    "\tfor i in range(0, len(data), 256):\n",
    "\t\t#read 256 bytes and store as long\n",
    "\t\t# to m\n",
    "\t\tm = 0\n",
    "\t\tfor j in range(256):\n",
    "\t\t\tif i + j < len(data):\n",
    "\t\t\t\tm = (m << 8) + data[i + j]\n",
    "\t\t\telse:\n",
    "\t\t\t\tm <<= 8\n",
    "\t\t# encrypt m\n",
    "\t\tk = modpow(m, key[0], key[1])\n",
    "\t\t# store c into cdata\n",
    "\t\tfor j in range(255, -1, -1):\n",
    "\t\t\tcdata.append((k >> (j * 8)) & 255)\n",
    "\t\t#print(len(cdata))\n",
    "\t\t#print(cdata)\t\n",
    "\t#cdata=cdata.decode()\n",
    "\t#cdata.encode(encoding='UTF-8',errors='ignore')\n",
    "\t#cdata=bytes(cdata)\n",
    "\tcdata=cdata.decode('latin-1')\n",
    "\t#print(type(cdata))\n",
    "\t#print(cdata)\n",
    "\treturn cdata"
   ]
  },
  {
   "cell_type": "code",
   "execution_count": 116,
   "metadata": {},
   "outputs": [],
   "source": [
    "def encrypt_bytes(data, key):\n",
    "\t#data=str(data)\n",
    "\tdata = bytearray(str(data),encoding='latin-1')\n",
    "\tcdata = bytearray()\n",
    "\tfor i in range(0, len(data), 256):\n",
    "\t\t# read 256 bytes and store as long\n",
    "\t\t# to m\n",
    "\t\tm = 0\n",
    "\t\tfor j in range(256):\n",
    "\t\t\tif i + j < len(data):\n",
    "\t\t\t\tm = (m << 8) + data[i + j]\n",
    "\t\t\telse:\n",
    "\t\t\t\tm <<= 8\n",
    "\t\t# encrypt m\n",
    "\t\tc = modpow(m, key[0], key[1])\n",
    "\t\t# store c into cdata\n",
    "\t\tfor j in range(255, -1, -1):\n",
    "\t\t\tcdata.append((c >> (j * 8)) & 255)\n",
    "\treturn bytes(cdata)\n",
    "\n",
    "# both functions are essencially the same,\n",
    "# the only difference is in which key you use\n",
    "decrypt_bytes = encrypt_bytes"
   ]
  },
  {
   "cell_type": "markdown",
   "metadata": {},
   "source": [
    "def decrypt_bytes(data,key):\n",
    "    decrypted=encrypt_bytes(data,key)\n",
    "    #decrypted=str(decrypted,'latin-1')\n",
    "    #decrypted=decrypted.encode('latin-1')\n",
    "    #decrypted=decrypted.decode('utf-8',errors='ignore')\n",
    "    #print(data)\n",
    "    #print(type(decrypted))\n",
    "    \n",
    "    return decrypted"
   ]
  },
  {
   "cell_type": "code",
   "execution_count": 10,
   "metadata": {},
   "outputs": [],
   "source": [
    "public,private=create_keys(1024)"
   ]
  },
  {
   "cell_type": "code",
   "execution_count": 117,
   "metadata": {},
   "outputs": [
    {
     "name": "stdout",
     "output_type": "stream",
     "text": [
      "\u0000\u0000\u0000\u0000\u0000\u0000\u0000\u0000\u0000\u0000\u0000\u0000\u0000\u0000\u0000\u0000\u0000\u0000\u0000\u0000\u0000\u0000\u0000\u0000\u0000\u0000\u0000\u0000\u0000\u0000\u0000\u0000\u0000\u0000\u0000\u0000\u0000\u0000\u0000\u0000\u0000\u0000\u0000\u0000\u0000\u0000\u0000\u0000\u0000\u0000\u0000\u0000\u0000\u0000\u0000\u0000\u0000\u0000\u0000\u0000\u0000\u0000\u0000\u0000\u0000\u0000\u0000\u0000\u0000\u0000\u0000\u0000\u0000\u0000\u0000\u0000\u0000\u0000\u0000\u0000\u0000\u0000\u0000\u0000\u0000\u0000\u0000\u0000\u0000\u0000\u0000\u0000\u0000\u0000\u0000\u0000\u0000\u0000\u0000\u0000\u0000\u0000\u0000\u0000\u0000\u0000\u0000\u0000\u0000\u0000\u0000\u0000\u0000\u0000\u0000\u0000\u0000\u0000\u0000\u0000\u0000\u0000\u0000\u0000\u0000\u0000\u0000\u0000(öÃt\u001aÓ¤ðLa*ó~ù«D\u000fT|H+ji9:ÃF?W\u0005hXÇ0¹Æå³¨Ià»çÌ*¾&m\\1fûùIÌù}\u0011²;UQd%ÄD0$:\u0011N´¶\"Í9\u001eº¯d^hìU|y\n",
      "&0¶zgÞh³­õ\u001exC\u0019;©·R`Õ^÷è}Ð¤\u0018\u001a¡\u0013é\u0000q«\u0018êc¼\u001b.¯áô'âÔÍ}Õ\u0000\u0000\u0000\u0000\u0000\u0000\u0000\u0000\u0000\u0000\u0000\u0000\u0000\u0000\u0000\u0000\u0000\u0000\u0000\u0000\u0000\u0000\u0000\u0000\u0000\u0000\u0000\u0000\u0000\u0000\u0000\u0000\u0000\u0000\u0000\u0000\u0000\u0000\u0000\u0000\u0000\u0000\u0000\u0000\u0000\u0000\u0000\u0000\u0000\u0000\u0000\u0000\u0000\u0000\u0000\u0000\u0000\u0000\u0000\u0000\u0000\u0000\u0000\u0000\u0000\u0000\u0000\u0000\u0000\u0000\u0000\u0000\u0000\u0000\u0000\u0000\u0000\u0000\u0000\u0000\u0000\u0000\u0000\u0000\u0000\u0000\u0000\u0000\u0000\u0000\u0000\u0000\u0000\u0000\u0000\u0000\u0000\u0000\u0000\u0000\u0000\u0000\u0000\u0000\u0000\u0000\u0000\u0000\u0000\u0000\u0000\u0000\u0000\u0000\u0000\u0000\u0000\u0000\u0000\u0000\u0000\u0000\u0000\u0000\u0000\u0000\u0000\u0000B\u001akã«\u0000¨·âï®§SðûÝ}\u0017Ï¬\u0011ö\u000b Ìí<­ðÞÍ/ÊKË·¬eÓèe¬Ð\u0013ó\u0019të3¤cÎ[1ôÄZµ\u0005Îw 6¹W\u0001ÙÃBs´'ë.-A¹×>9\u0014an¿RÅÐÄÙÊ´riçÉöÆujÑ¬\u0018\u0000\u0000\u0000\u0000\u0000\u0000\u0000\u0000\u0000\u0000\u0000\u0000\u0000\u0000\u0000\u0000\u0000\u0000\u0000\u0000\u0000\u0000\u0000\u0000\u0000\u0000\u0000\u0000\u0000\u0000\u0000\u0000\u0000\u0000\u0000\u0000\u0000\u0000\u0000\u0000\u0000\u0000\u0000\u0000\u0000\u0000\u0000\u0000\u0000\u0000\u0000\u0000\u0000\u0000\u0000\u0000\u0000\u0000\u0000\u0000\u0000\u0000\u0000\u0000\u0000\u0000\u0000\u0000\u0000\u0000\u0000\u0000\u0000\u0000\u0000\u0000\u0000\u0000\u0000\u0000\u0000\u0000\u0000\u0000\u0000\u0000\u0000\u0000\u0000\u0000\u0000\u0000\u0000\u0000\u0000\u0000\u0000\u0000\u0000\u0000\u0000\u0000\u0000\u0000\u0000\u0000\u0000\u0000\u0000\u0000\u0000\u0000\u0000\u0000\u0000\u0000\u0000\u0000\u0000\u0000\u0000\u0000\u0000\u0000\u0000\u0000\u0000\u00005£»üÊç.UjåMÒÖÅüÉn¼u1{ì\u00051G¯­^ð\u0014ü_C¼0ÎÞôw3\u001e7M¦E¦mÛ÷\tãâ¿1r\u0015#±¯H\fª#3[³zÖE(òìÄ'\u0012õ1\u0001 òüêN}2¶÷\u0017nïìhýçéu³\u0004y´Jn6É\n"
     ]
    }
   ],
   "source": [
    "data=\"234\"\n",
    "data=encrypt_bytes(data,public)\n",
    "data=decrypt_bytes(data,private)\n",
    "data=data.decode('latin-1')\n",
    "#data=str(data)\n",
    "print(data)"
   ]
  },
  {
   "cell_type": "markdown",
   "metadata": {},
   "source": [
    "WE ARE IMPLEMENTING THE WIENER'S ATTACK ON SHORT EXPONENT D USING METHOD OF CONTINUED FRACTIONS "
   ]
  },
  {
   "cell_type": "code",
   "execution_count": 98,
   "metadata": {},
   "outputs": [],
   "source": [
    "##Function to Calculate Continued Fractional of a fraction of form (n/d)\n",
    "def cf_exp(num, den):\n",
    "    #print(type(den))\n",
    "    exp=[]\n",
    "    q=num//den\n",
    "    r=num%den\n",
    "    exp.append(q)\n",
    "    while  r!=0:\n",
    "        num,den=den,r\n",
    "        q=num//den\n",
    "        r=num%den\n",
    "        exp.append(q)\n",
    "    return exp    "
   ]
  },
  {
   "cell_type": "code",
   "execution_count": 99,
   "metadata": {},
   "outputs": [],
   "source": [
    "#Function to calculate the convergent of a continued fraction n\n",
    "def convergent(n):\n",
    "    num=[] #Numator\n",
    "    deno=[] #Denominator\n",
    "    for i in range(len(n)):\n",
    "        if i==0:\n",
    "            num_i=n[i]\n",
    "            deno_i=1\n",
    "        elif i==1:\n",
    "            num_i= n[i]*n[i-1]+1\n",
    "            deno_i=n[i]\n",
    "        else:\n",
    "            num_i=n[i]*num[i-1]+num[i-2]\n",
    "            deno_i=n[i]*deno[i-1]+deno[i-2]\n",
    "        num.append(num_i)\n",
    "        deno.append(deno_i)\n",
    "        yield(num_i,deno_i)\n",
    "    #return (num,deno)              \n"
   ]
  },
  {
   "cell_type": "code",
   "execution_count": 100,
   "metadata": {},
   "outputs": [],
   "source": [
    "##Importing the required Libraries Hashlib for hashing\n",
    "import gmpy2,sys\n",
    "from sympy import *\n",
    "from gmpy2 import c_div, isqrt"
   ]
  },
  {
   "cell_type": "code",
   "execution_count": 101,
   "metadata": {},
   "outputs": [],
   "source": [
    "##Function to test Key-pair\n",
    "def test_key(n,e,d):\n",
    "    msg=(n-123)>>7\n",
    "    c=modpow(msg,e,n)\n",
    "    return modpow(c,d,n)==msg"
   ]
  },
  {
   "cell_type": "code",
   "execution_count": 102,
   "metadata": {},
   "outputs": [],
   "source": [
    "##Function to generate the Wiener key-pair satisfying the criteria on private exponent\n",
    "def key_pair_wiener(size):\n",
    "    while True:\n",
    "        p=genprime(size//2)\n",
    "        q=genprime(size//2)\n",
    "        if q<p<2*q:\n",
    "            break\n",
    "    n=p*q\n",
    "    phi_n=(p-1)*(q-1)\n",
    "\n",
    "    #Calculating Maximum D and bits in it \n",
    "    max_d=c_div((isqrt(isqrt(n))),3)\n",
    "    max_d_bits=max_d.bit_length()-1\n",
    "\n",
    "    while True:\n",
    "        #Generating random d of specified bits\n",
    "        d=secrets.randbits(max_d_bits)\n",
    "        #Calculating inverse Modulo for d i.e e or public exponent \n",
    "        try:\n",
    "            e=int(gmpy2.invert(d, phi_n))\n",
    "        except ZeroDivisionError:\n",
    "            continue\n",
    "        if (e*d)%phi_n==1:\n",
    "            break\n",
    "\n",
    "    #Testing if the key pair is vaild     \n",
    "    assert test_key(n,e,d)\n",
    "    \n",
    "    #Returning the values\n",
    "    return n, e, d, p, q     \n",
    "        "
   ]
  },
  {
   "cell_type": "code",
   "execution_count": 103,
   "metadata": {},
   "outputs": [
    {
     "name": "stdout",
     "output_type": "stream",
     "text": [
      "[+] Generated an RSA keypair with a short private exponent.\n",
      "[+] ++ e:     60308644142284766819162858097749715800105225991403017523608095259298997457296703342430885290037156178001435087839315286122213968619770087667481401815715377974134072830100453119320018542821793197390255507565115387655761627631343010784450904796610081438599648693207190750180704977997792619297922268035727142427\n",
      "[+] -- d:     5331867266387788009502181936198395258153087173479822263864248828278569914835\n",
      "[+] ++ N:     117964626161945173834889393077732771831318487010014367911702452686073141273643919085806218092030199959726710555363311557087332575829695506225305180649252954377219252121837762893343859064149434729693013637458559798828179393610911699298030627881508683518315722378625447470591881053271596051644295533668023758559\n",
      "[+] -- p:     13039305930738824641465810590384310144646667024777703840012501310145426526849257631750952543147825154994507724136737013995513801144204796693556525503368593\n",
      "[+] -- q:     9046848566061762705085433070412372671865519170767397385420337859172870968500174858918620849497553790200801463285161734840465549293252977768041119693700463\n",
      "[+] -- phiN:  117964626161945173834889393077732771831318487010014367911702452686073141273643919085806218092030199959726710555363311557087332575829695506225305180649252932291064755321250416342100198267466618217506818092357334365989010075313416349865539958308116038139370527069438025571843045073921158593869833936022826689504\n",
      "[+] ------------------\n",
      "[+] Found the continued fractions expansion convergents of e/N.\n",
      "[+] Iterating over convergents; Testing correctness through factorization.\n",
      "[+] ...\n",
      "[+] Factored N! :) derived keypair components:\n",
      "[+] ++ e:     60308644142284766819162858097749715800105225991403017523608095259298997457296703342430885290037156178001435087839315286122213968619770087667481401815715377974134072830100453119320018542821793197390255507565115387655761627631343010784450904796610081438599648693207190750180704977997792619297922268035727142427\n",
      "[+] ++ d:     5331867266387788009502181936198395258153087173479822263864248828278569914835\n",
      "[+] ++ N:     117964626161945173834889393077732771831318487010014367911702452686073141273643919085806218092030199959726710555363311557087332575829695506225305180649252954377219252121837762893343859064149434729693013637458559798828179393610911699298030627881508683518315722378625447470591881053271596051644295533668023758559\n",
      "[+] ++ p:     9046848566061762705085433070412372671865519170767397385420337859172870968500174858918620849497553790200801463285161734840465549293252977768041119693700463\n",
      "[+] ++ q:     13039305930738824641465810590384310144646667024777703840012501310145426526849257631750952543147825154994507724136737013995513801144204796693556525503368593\n",
      "[+] ++ phiN:  117964626161945173834889393077732771831318487010014367911702452686073141273643919085806218092030199959726710555363311557087332575829695506225305180649252932291064755321250416342100198267466618217506818092357334365989010075313416349865539958308116038139370527069438025571843045073921158593869833936022826689504\n"
     ]
    },
    {
     "ename": "SystemExit",
     "evalue": "0",
     "output_type": "error",
     "traceback": [
      "An exception has occurred, use %tb to see the full traceback.\n",
      "\u001b[0;31mSystemExit\u001b[0m\u001b[0;31m:\u001b[0m 0\n"
     ]
    },
    {
     "name": "stderr",
     "output_type": "stream",
     "text": [
      "/Library/Frameworks/Python.framework/Versions/3.8/lib/python3.8/site-packages/IPython/core/interactiveshell.py:3449: UserWarning: To exit: use 'exit', 'quit', or Ctrl-D.\n",
      "  warn(\"To exit: use 'exit', 'quit', or Ctrl-D.\", stacklevel=1)\n"
     ]
    }
   ],
   "source": [
    "if __name__ == '__main__':\n",
    "    #Generating a pair of private and public key\n",
    "    #Hashing it to make it more secure\n",
    "    N, e, d, p, q = key_pair_wiener(1024)\n",
    "    print('[+] Generated an RSA keypair with a short private exponent.')\n",
    "    print('[+] ++ e:    ', (e))\n",
    "    print('[+] -- d:    ', (d))\n",
    "    print('[+] ++ N:    ', (N))\n",
    "    print('[+] -- p:    ', (p))\n",
    "    print('[+] -- q:    ', (q))\n",
    "    print('[+] -- phiN: ', ((p - 1)*(q - 1)))\n",
    "    print('[+] ------------------')\n",
    "\n",
    "    #Generating the cf_expansion of e and N\n",
    "    cf_expansion = cf_exp(e, N)\n",
    "    \n",
    "    #Calculating the convergence of the expansion\n",
    "    convergents = convergent(cf_expansion)\n",
    "    print('[+] Found the continued fractions expansion convergents of e/N.')\n",
    "\n",
    "    print('[+] Iterating over convergents; '\n",
    "            'Testing correctness through factorization.')\n",
    "    print('[+] ...')\n",
    "    for pk, pd in convergents: # pk - possible k, pd - possible d\n",
    "        if pk == 0:\n",
    "            continue;\n",
    "\n",
    "        possible_phi = (e*pd - 1)//pk\n",
    "\n",
    "        p = Symbol('p', integer=True)\n",
    "        roots = solve(p**2 + (possible_phi - N - 1)*p + N, p)\n",
    "\n",
    "        if len(roots) == 2:\n",
    "            pp, pq = roots # pp - possible p, pq - possible q\n",
    "            if pp*pq == N:\n",
    "                print('[+] Factored N! :) derived keypair components:')\n",
    "                print('[+] ++ e:    ', (e))\n",
    "                print('[+] ++ d:    ', (pd))\n",
    "                print('[+] ++ N:    ', (N))\n",
    "                print('[+] ++ p:    ', (pp))\n",
    "                print('[+] ++ q:    ', (pq))\n",
    "                print('[+] ++ phiN: ', (possible_phi))\n",
    "                sys.exit(0)\n",
    "\n",
    "    print('[-] Wiener\\'s Attack failed; Could not factor N')\n",
    "    sys.exit(1)"
   ]
  },
  {
   "cell_type": "markdown",
   "metadata": {},
   "source": [
    "Håstad Broadcast Attack on RSA "
   ]
  },
  {
   "cell_type": "code",
   "execution_count": 94,
   "metadata": {},
   "outputs": [],
   "source": [
    "##importing Required Libraries\n",
    "from math import ceil, gcd\n",
    "from mpmath import mp"
   ]
  },
  {
   "cell_type": "code",
   "execution_count": 93,
   "metadata": {},
   "outputs": [],
   "source": [
    "##The intercepted cipher text and the Corresponding Moduli\n",
    "C1 = 0x94f145679ee247b023b09f917beea7e38707452c5f4dc443bba4d089a18ec42de6e32806cc967e09a28ea6fd2e683d5bb7258bce9e6f972d6a30d7e5acbfba0a85610261fb3e0aac33a9e833234a11895402bc828da3c74ea2979eb833cd644b8ab9e3b1e46515f47a49ee602c608812241e56b94bcf76cfbb13532d9f4ff8ba\n",
    "N1 = 0xa5d1c341e4837bf7f2317024f4436fb25a450ddabd7293a0897ebecc24e443efc47672a6ece7f9cac05661182f3abbb0272444ce650a819b477fd72bf01210d7e1fbb7eb526ce77372f1aa6c9ce570066deee1ea95ddd22533cbc68b3ba20ec737b002dfc6f33dcb19e6f9b312caa59c81bb80cda1facf16536cb3c184abd1d5\n",
    "C2 = 0x5ad248df283350558ba4dc22e5ec8325364b3e0b530b143f59e40c9c2e505217c3b60a0fae366845383adb3efe37da1b9ae37851811c4006599d3c1c852edd4d66e4984d114f4ea89d8b2aef45cc531cfa1ab16c7a2e04d8884a071fed79a8d30af66edf1bbbf695ff8670b9fccf83860a06e017d67b1788b19b72d597d7d8d8\n",
    "N2 = 0xaf4ed50f72b0b1eec2cde78275bcb8ff59deeeb5103ccbe5aaef18b4ddc5d353fc6dc990d8b94b3d0c1750030e48a61edd4e31122a670e5e942ae224ecd7b5af7c13b6b3ff8bcc41591cbf2d8223d32eeb46ba0d7e6d9ab52a728be56cd284842337db037e1a1da246ed1da0fd9bdb423bbe302e813f3c9b3f9414b25e28bda5\n",
    "C3 = 0x8a9315ee3438a879f8af97f45df528de7a43cd9cf4b9516f5a9104e5f1c7c2cdbf754b1fa0702b3af7cecfd69a425f0676c8c1f750f32b736c6498cac207aa9d844c50e654ceaced2e0175e9cfcc2b9f975e3183437db73111a4a139d48cc6ce4c6fac4bf93b98787ed8a476a9eb4db4fd190c3d8bf4d5c4f66102c6dd36b73\n",
    "N3 = 0x5ca9a30effc85f47f5889d74fd35e16705c5d1a767004fec7fdf429a205f01fd7ad876c0128ddc52caebaa0842a89996379ac286bc96ebbb71a0f8c3db212a18839f7877ebd76c3c7d8e86bf6ddb17c9c93a28defb8c58983e11304d483fd7caa19b4b261fc40a19380abae30f8d274481a432c8de488d0ea7b680ad6cf7776b"
   ]
  },
  {
   "cell_type": "code",
   "execution_count": 95,
   "metadata": {},
   "outputs": [],
   "source": [
    "##Checking if any of three are co-prime, else we can easily factor the common term to find the primes\n",
    "assert gcd(N1, N2) == gcd(N1, N3) == gcd(N2, N3) == 1"
   ]
  },
  {
   "cell_type": "code",
   "execution_count": 96,
   "metadata": {},
   "outputs": [
    {
     "name": "stdout",
     "output_type": "stream",
     "text": [
      "This message is secret and unfortunately e is not high. The message should also be sufficiently long so it is a residue.\n"
     ]
    }
   ],
   "source": [
    "# Using Chinese Remainder Theorem\n",
    "# Z_p x Z_q isomorph with Z_N where N=pq (where Z_p is a Ring of integers redcued by p)\n",
    "# (x_p, x_q) <-> [(x_p * 1_p + x_q * 1_q) mod N](where 1_p is the identity element in ring p and 1_q is the identity element in q)\n",
    "# 1_p <-> (1, 0)\n",
    "# 1_q <-> (0, 1)\n",
    "N12 = N1 * N2\n",
    "#Using the extended Eculiedan \n",
    "k= eucalg(N1, N2)\n",
    "a,b=k[0],k[1]\n",
    "p1 = b * N2 % N12\n",
    "q1 = a * N1 % N12\n",
    "C12 = (C1 * p1 + C2 * q1) % N12\n",
    "\n",
    "N = N12 * N3\n",
    "\n",
    "k = eucalg(N12, N3)\n",
    "a,b=k[0],k[1]\n",
    "p1 = b * N3 % N\n",
    "q1 = a * N12 % N\n",
    "C123 = (C12 * p1 + C3 * q1) % N\n",
    "\n",
    "mp.dps = len(str(C123))     # set floating-point precision of mpmath\n",
    "\n",
    "m = int(mp.cbrt(C123))\n",
    "bits = bin(m)[2:]\n",
    "message = int.to_bytes(m, ceil(len(bits) / 8), byteorder=\"big\").decode(\"ASCII\")\n",
    "print(message)"
   ]
  },
  {
   "cell_type": "code",
   "execution_count": null,
   "metadata": {},
   "outputs": [],
   "source": []
  }
 ],
 "metadata": {
  "interpreter": {
   "hash": "aee8b7b246df8f9039afb4144a1f6fd8d2ca17a180786b69acc140d282b71a49"
  },
  "kernelspec": {
   "display_name": "Python 3.8.7 64-bit",
   "language": "python",
   "name": "python3"
  },
  "language_info": {
   "codemirror_mode": {
    "name": "ipython",
    "version": 3
   },
   "file_extension": ".py",
   "mimetype": "text/x-python",
   "name": "python",
   "nbconvert_exporter": "python",
   "pygments_lexer": "ipython3",
   "version": "3.8.7"
  },
  "orig_nbformat": 4
 },
 "nbformat": 4,
 "nbformat_minor": 2
}
