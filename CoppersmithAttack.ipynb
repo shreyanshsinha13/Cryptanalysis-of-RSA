{
 "cells": [
  {
   "cell_type": "code",
   "execution_count": 2,
   "id": "18b6ff89",
   "metadata": {},
   "outputs": [],
   "source": [
    "import random\n",
    "import binascii"
   ]
  },
  {
   "cell_type": "code",
   "execution_count": 3,
   "id": "0c011ddd",
   "metadata": {},
   "outputs": [],
   "source": [
    "#Function to implement Coppersmith Short padding attack \n",
    "def coppersmith_short_pad(C1, C2, N, e = 3, eps = 1/25):\n",
    "    P.<x, y> = PolynomialRing(Zmod(N))#Polynomial ring of two varibles\n",
    "    P2.<y> = PolynomialRing(Zmod(N))#Polynomial ring of one variable\n",
    "\n",
    "    g1 = (x^e - C1).change_ring(P2)#f(x,y)=x^e-C_1(modN)\n",
    "    g2 = ((x + y)^e - C2).change_ring(P2)#(f(x,y)=(x+y)^-C_2(modN))\n",
    " \n",
    "    # Changes the base ring to Z_N[y] and finds resultant of g1 and g2 in x\n",
    "    res = g1.resultant(g2, variable=x)\n",
    "\n",
    "    # coppersmith's small_roots only works over univariate polynomial rings, so we \n",
    "    # convert the resulting polynomial to its univariate form and take the coefficients modulo N\n",
    "    # Then we can call the sage's small_roots function and obtain the delta between m_1 and m_2.\n",
    "    # Play around with these parameters: (epsilon, beta, X)\n",
    "    roots = res.univariate_polynomial().change_ring(Zmod(N))\\\n",
    "        .small_roots(epsilon=eps)\n",
    "\n",
    "    return roots[0]"
   ]
  },
  {
   "cell_type": "code",
   "execution_count": 4,
   "id": "e7e8e809",
   "metadata": {},
   "outputs": [],
   "source": [
    "#Using Franklin-Reiter attack to determine the final message \n",
    "def franklin_reiter(C1, C2, N, r, e=3):\n",
    "    P.<x> = PolynomialRing(Zmod(N))\n",
    "    equations = [x ^ e - C1, (x + r) ^ e - C2]\n",
    "    g1, g2 = equations\n",
    "    return -composite_gcd(g1,g2).coefficients()[0]"
   ]
  },
  {
   "cell_type": "code",
   "execution_count": 22,
   "id": "d967d07b",
   "metadata": {},
   "outputs": [],
   "source": [
    "#Recovering message intercepted Ciphertext\n",
    "def recover_message(C1, C2, N, e = 3):\n",
    "    delta = coppersmith_short_pad(C1, C2, N)\n",
    "    recovered = franklin_reiter(C1, C2, N, delta)\n",
    "    #message = int.to_bytes(m, ceil(len(recovered) / 8), byteorder=\"big\").decode(\"ASCII\")\n",
    "    return recovered"
   ]
  },
  {
   "cell_type": "code",
   "execution_count": 6,
   "id": "999c6bdf",
   "metadata": {},
   "outputs": [],
   "source": [
    "def composite_gcd(g1,g2):\n",
    "    return g1.monic() if g2 == 0 else composite_gcd(g2, g1 % g2)"
   ]
  },
  {
   "cell_type": "code",
   "execution_count": 24,
   "id": "0420253c",
   "metadata": {},
   "outputs": [],
   "source": [
    "# Takes a long time for larger values and smaller epsilon\n",
    "def test():\n",
    "    N = random_prime(2^10, proof=False) * random_prime(2^10, proof=False)\n",
    "    e = 3\n",
    "\n",
    "    m = Integer(math.log(N, 2) // e^2)\n",
    "\n",
    "    ##Random pad for the message\n",
    "    r1 = random.randint(1, pow(2, m))\n",
    "    r2 = random.randint(1, pow(2, m))\n",
    "\n",
    "    #The message transmitted and the corresponding ciphertext \n",
    "    M = int(binascii.hexlify(b\"hello\"), 16)\n",
    "    print(M)\n",
    "    C1 = pow(pow(2, m) * M + r1, e, N)\n",
    "    C2 = pow(pow(2, m) * M + r2, e, N)\n",
    "\n",
    "    # Using eps = 1/125 is slooooowww\n",
    "    print(coppersmith_short_pad(C1, C2, N, eps=1/200))\n",
    "    print(recover_message(C1, C2, N))"
   ]
  },
  {
   "cell_type": "code",
   "execution_count": 25,
   "id": "99771e9c",
   "metadata": {},
   "outputs": [
    {
     "name": "stdout",
     "output_type": "stream",
     "text": [
      "448378203247\n",
      "0\n",
      "9916\n"
     ]
    }
   ],
   "source": [
    "if __name__ == \"__main__\":\n",
    "    test()"
   ]
  },
  {
   "cell_type": "code",
   "execution_count": null,
   "id": "29bbc48b",
   "metadata": {},
   "outputs": [],
   "source": []
  }
 ],
 "metadata": {
  "kernelspec": {
   "display_name": "SageMath 9.6",
   "language": "sage",
   "name": "sagemath-9.6"
  },
  "language_info": {
   "codemirror_mode": {
    "name": "ipython",
    "version": 3
   },
   "file_extension": ".py",
   "mimetype": "text/x-python",
   "name": "python",
   "nbconvert_exporter": "python",
   "pygments_lexer": "ipython3",
   "version": "3.10.3"
  }
 },
 "nbformat": 4,
 "nbformat_minor": 5
}
